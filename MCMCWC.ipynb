{
 "cells": [
  {
   "cell_type": "code",
   "execution_count": 74,
   "metadata": {},
   "outputs": [],
   "source": [
    "import re\n",
    "from collections import Counter\n",
    "\n",
    "def words(text): return re.findall(\"[a-zA-z']+\", text.replace(\"_\", \" \").replace(\"[\", \" \").replace(\"]\", \" \").lower())\n",
    "# def words(text): return re.findall(r'\\w+', text.replace(\"_\", \"\").lower())\n",
    "all_words = words(open('big.txt').read())\n",
    "WORDS = Counter(all_words)\n",
    "\n",
    "letters = \"abcdefghijklmnopqrstuvwxyz\"\n",
    "\n",
    "tmp_BIGRAMS_word = {}\n",
    "for i in xrange(len(all_words) - 1):\n",
    "    if all_words[i] not in tmp_BIGRAMS_word:\n",
    "        tmp_BIGRAMS_word[all_words[i], all_words[i+1]] = 0\n",
    "    tmp_BIGRAMS_word[all_words[i], all_words[i+1]] = tmp_BIGRAMS_word[all_words[i], all_words[i+1]] + 1\n",
    "\n",
    "BIGRAMS_word = {}\n",
    "for qey in tmp_BIGRAMS_word.keys():\n",
    "    if qey[0] not in BIGRAMS_word:\n",
    "        BIGRAMS_word[qey[0]] = {}\n",
    "    BIGRAMS_word[qey[0]][qey[1]] = tmp_BIGRAMS_word[qey]\n",
    "for qey in BIGRAMS_word.keys():\n",
    "    \n",
    "    for qeey in BIGRAMS_word[qey].keys():\n",
    "        BIGRAMS_word[qey][qeey] = BIGRAMS_word[qey][qeey] + 1.0\n",
    "    for qeey in BIGRAMS_word[qey].keys():\n",
    "        tmp_sum = sum(BIGRAMS_word[qey].values())\n",
    "        BIGRAMS_word[qey][qeey] = (BIGRAMS_word[qey][qeey] + 0.0) / tmp_sum    \n",
    "    \n",
    "tmp_TRIGRAMS_letter = {}\n",
    "for all_word in all_words:\n",
    "    all_word = \" \" + all_word + \" \"\n",
    "    for i in xrange(len(all_word) - 2):\n",
    "        if (all_word[i], all_word[i + 1], all_word[i + 2]) not in tmp_TRIGRAMS_letter:\n",
    "            tmp_TRIGRAMS_letter[(all_word[i], all_word[i + 1], all_word[i + 2])] = 0\n",
    "        tmp_TRIGRAMS_letter[(all_word[i], all_word[i + 1], all_word[i + 2])] = \\\n",
    "        tmp_TRIGRAMS_letter[(all_word[i], all_word[i + 1], all_word[i + 2])] + 1\n",
    "    \n",
    "TRIGRAMS_letter = {}\n",
    "for qey_1 in letters+\" \":\n",
    "    for qey_2 in letters+\" \":\n",
    "        for qey_3 in letters+\" \":\n",
    "            if (qey_1, qey_2, qey_3) not in TRIGRAMS_letter:        \n",
    "                TRIGRAMS_letter[(qey_1, qey_2, qey_3)] = tmp_TRIGRAMS_letter.get((qey_1, qey_2, qey_3), 0.0) + 1.0\n",
    "for qey_1 in letters+\" \":\n",
    "    for qey_2 in letters+\" \":\n",
    "        tmp_sum = 0\n",
    "        for qey_3 in letters+\" \":\n",
    "            tmp_sum = tmp_sum + TRIGRAMS_letter[(qey_1, qey_2, qey_3)]\n",
    "        for qey_3 in letters+\" \":\n",
    "            TRIGRAMS_letter[(qey_1, qey_2, qey_3)] = TRIGRAMS_letter[(qey_1, qey_2, qey_3)] / tmp_sum"
   ]
  },
  {
   "cell_type": "code",
   "execution_count": 75,
   "metadata": {
    "collapsed": true
   },
   "outputs": [],
   "source": [
    "def P(word, N=sum(WORDS.values())): \n",
    "    \"Probability of `word`.\"\n",
    "    return (WORDS[word] + 0.0) / N"
   ]
  },
  {
   "cell_type": "code",
   "execution_count": 76,
   "metadata": {
    "collapsed": true
   },
   "outputs": [],
   "source": [
    "prob_str = 'jx cojwk xr mwey gnub, lw rwwk mx swwz xnh chour exkw-urmwpputwrew rx qommwh lyom jumnomuxr uj. Omywhlujw, jxqwcxkv ojsj nj mx kx wraurwwhura lxhs,, mywr vxn qov jov \"lwpp,, hwewrmpv I yoiwrm lhummwr orv exkwj..\" lyom o ywpp...'\n",
    "prob_words = words(prob_str)"
   ]
  },
  {
   "cell_type": "code",
   "execution_count": 77,
   "metadata": {
    "collapsed": true
   },
   "outputs": [],
   "source": [
    "import numpy as np\n",
    "from random import random\n",
    "from random import randint\n",
    "from random import sample\n",
    "from math import log\n",
    "from math import exp"
   ]
  },
  {
   "cell_type": "code",
   "execution_count": 78,
   "metadata": {},
   "outputs": [
    {
     "name": "stdout",
     "output_type": "stream",
     "text": [
      "This iter = 1 | Swap_char = t | Can_char = b | Random = 0.433478327126 | Not Random = 3319.5242755 | Cur prob = -1636.49155132 | Cur str = jx cojwk xr mwey gnut lw rwwk mx swwz xnh chour exkw urmwppubwrew rx qommwh lyom jumnomuxr uj omywhlujw jxqwcxkv ojsj nj mx kx wraurwwhura lxhs mywr vxn qov jov lwpp hwewrmpv i yoiwrm lhummwr orv exkwj lyom o ywpp\n",
      "This iter = 2 | Swap_char = v | Can_char = b | Random = 0.184112160563 | Not Random = 5.55297805496 | Cur prob = -1634.77721695 | Cur str = jx cojwk xr mwey gnut lw rwwk mx swwz xnh chour exkw urmwppuvwrew rx qommwh lyom jumnomuxr uj omywhlujw jxqwcxkb ojsj nj mx kx wraurwwhura lxhs mywr bxn qob job lwpp hwewrmpb i yoiwrm lhummwr orb exkwj lyom o ywpp\n",
      "This iter = 3 | Swap_char = l | Can_char = e | Random = 0.128365789993 | Not Random = 18400712.2122 | Cur prob = -1618.04931703 | Cur str = jx cojwk xr mwly gnut ew rwwk mx swwz xnh chour lxkw urmwppuvwrlw rx qommwh eyom jumnomuxr uj omywheujw jxqwcxkb ojsj nj mx kx wraurwwhura exhs mywr bxn qob job ewpp hwlwrmpb i yoiwrm ehummwr orb lxkwj eyom o ywpp\n",
      "This iter = 4 | Swap_char = a | Can_char = x | Random = 0.0506518877981 | Not Random = 1.34934296584e+19 | Cur prob = -1574.00058248 | Cur str = ja cojwk ar mwly gnut ew rwwk ma swwz anh chour lakw urmwppuvwrlw ra qommwh eyom jumnomuar uj omywheujw jaqwcakb ojsj nj ma ka wrxurwwhurx eahs mywr ban qob job ewpp hwlwrmpb i yoiwrm ehummwr orb lakwj eyom o ywpp\n",
      "This iter = 5 | Swap_char = b | Can_char = e | Random = 0.873188224676 | Not Random = 36269.118218 | Cur prob = -1563.50186056 | Cur str = ja cojwk ar mwly gnut bw rwwk ma swwz anh chour lakw urmwppuvwrlw ra qommwh byom jumnomuar uj omywhbujw jaqwcake ojsj nj ma ka wrxurwwhurx bahs mywr ean qoe joe bwpp hwlwrmpe i yoiwrm bhummwr ore lakwj byom o ywpp\n",
      "This iter = 8 | Swap_char = q | Can_char = d | Random = 0.979361659565 | Not Random = 5539.40049128 | Cur prob = -1555.7799357 | Cur str = ja cojwk ar mwly snut bw rwwk ma fwwz anh chour lakw urmwppuvwrlw ra dommwh byom jumnomuar uj omywhbujw jadwcake ojfj nj ma ka wrxurwwhurx bahf mywr ean doe joe bwpp hwlwrmpe i yoiwrm bhummwr ore lakwj byom o ywpp\n",
      "This iter = 9 | Swap_char = k | Can_char = z | Random = 0.113301446535 | Not Random = 52.8606168824 | Cur prob = -1551.81227712 | Cur str = ja cojwz ar mwly snut bw rwwz ma fwwk anh chour lazw urmwppuvwrlw ra dommwh byom jumnomuar uj omywhbujw jadwcaze ojfj nj ma za wrxurwwhurx bahf mywr ean doe joe bwpp hwlwrmpe i yoiwrm bhummwr ore lazwj byom o ywpp\n",
      "This iter = 10 | Swap_char = v | Can_char = f | Random = 0.974346165979 | Not Random = 7.71025066701 | Cur prob = -1549.76972643 | Cur str = ja cojwz ar mwly snut bw rwwz ma vwwk anh chour lazw urmwppufwrlw ra dommwh byom jumnomuar uj omywhbujw jadwcaze ojvj nj ma za wrxurwwhurx bahv mywr ean doe joe bwpp hwlwrmpe i yoiwrm bhummwr ore lazwj byom o ywpp\n",
      "This iter = 11 | Swap_char = l | Can_char = z | Random = 0.840422277277 | Not Random = 1796385.04541 | Cur prob = -1535.36843953 | Cur str = ja cojwl ar mwzy snut bw rwwl ma vwwk anh chour zalw urmwppufwrzw ra dommwh byom jumnomuar uj omywhbujw jadwcale ojvj nj ma la wrxurwwhurx bahv mywr ean doe joe bwpp hwzwrmpe i yoiwrm bhummwr ore zalwj byom o ywpp\n",
      "This iter = 12 | Swap_char = b | Can_char = x | Random = 0.283805236063 | Not Random = 5420518.00853 | Cur prob = -1519.86273759 | Cur str = ja cojwl ar mwzy snut xw rwwl ma vwwk anh chour zalw urmwppufwrzw ra dommwh xyom jumnomuar uj omywhxujw jadwcale ojvj nj ma la wrburwwhurb xahv mywr ean doe joe xwpp hwzwrmpe i yoiwrm xhummwr ore zalwj xyom o ywpp\n",
      "This iter = 13 | Swap_char = s | Can_char = h | Random = 0.290632656569 | Not Random = 18.176488544 | Cur prob = -1516.96260867 | Cur str = ja cojwl ar mwzy hnut xw rwwl ma vwwk ans csour zalw urmwppufwrzw ra dommws xyom jumnomuar uj omywsxujw jadwcale ojvj nj ma la wrburwwsurb xasv mywr ean doe joe xwpp swzwrmpe i yoiwrm xsummwr ore zalwj xyom o ywpp\n",
      "This iter = 14 | Swap_char = z | Can_char = v | Random = 0.4901835027 | Not Random = 31967.7746793 | Cur prob = -1506.59012503 | Cur str = ja cojwl ar mwvy hnut xw rwwl ma zwwk ans csour valw urmwppufwrvw ra dommws xyom jumnomuar uj omywsxujw jadwcale ojzj nj ma la wrburwwsurb xasz mywr ean doe joe xwpp swvwrmpe i yoiwrm xsummwr ore valwj xyom o ywpp\n",
      "This iter = 15 | Swap_char = f | Can_char = q | Random = 0.145082291408 | Not Random = 1.45939153439 | Cur prob = -1506.21210544 | Cur str = ja cojwl ar mwvy hnut xw rwwl ma zwwk ans csour valw urmwppuqwrvw ra dommws xyom jumnomuar uj omywsxujw jadwcale ojzj nj ma la wrburwwsurb xasz mywr ean doe joe xwpp swvwrmpe i yoiwrm xsummwr ore valwj xyom o ywpp\n",
      "This iter = 16 | Swap_char = z | Can_char = h | Random = 0.1872491204 | Not Random = 89138.979501 | Cur prob = -1494.81415344 | Cur str = ja cojwl ar mwvy znut xw rwwl ma hwwk ans csour valw urmwppuqwrvw ra dommws xyom jumnomuar uj omywsxujw jadwcale ojhj nj ma la wrburwwsurb xash mywr ean doe joe xwpp swvwrmpe i yoiwrm xsummwr ore valwj xyom o ywpp\n",
      "This iter = 18 | Swap_char = g | Can_char = i | Random = 0.264418703034 | Not Random = 46.5283416077 | Cur prob = -1491.28246304 | Cur str = ja iojwl ar mwvy znut xw rwwl ma hwwk ans isour valw urmwppuqwrvw ra dommws xyom jumnomuar uj omywsxujw jadwiale ojhj nj ma la wrburwwsurb xash mywr ean doe joe xwpp swvwrmpe g yogwrm xsummwr ore valwj xyom o ywpp\n",
      "This iter = 19 | Swap_char = d | Can_char = m | Random = 0.560853301502 | Not Random = 4.61649044994 | Cur prob = -1489.75282827 | Cur str = ja iojwl ar dwvy znut xw rwwl da hwwk ans isour valw urdwppuqwrvw ra moddws xyod judnoduar uj odywsxujw jamwiale ojhj nj da la wrburwwsurb xash dywr ean moe joe xwpp swvwrdpe g yogwrd xsuddwr ore valwj xyod o ywpp\n",
      "This iter = 20 | Swap_char = j | Can_char = p | Random = 0.7206125848 | Not Random = 7.10916876276 | Cur prob = -1487.79144294 | Cur str = pa iopwl ar dwvy znut xw rwwl da hwwk ans isour valw urdwjjuqwrvw ra moddws xyod pudnoduar up odywsxupw pamwiale ophp np da la wrburwwsurb xash dywr ean moe poe xwjj swvwrdje g yogwrd xsuddwr ore valwp xyod o ywjj\n",
      "This iter = 21 | Swap_char = i | Can_char = y | Random = 0.872979682122 | Not Random = 168522.103759 | Cur prob = -1475.75662074 | Cur str = pa yopwl ar dwvi znut xw rwwl da hwwk ans ysour valw urdwjjuqwrvw ra moddws xiod pudnoduar up odiwsxupw pamwyale ophp np da la wrburwwsurb xash diwr ean moe poe xwjj swvwrdje g iogwrd xsuddwr ore valwp xiod o iwjj\n",
      "This iter = 22 | Swap_char = m | Can_char = c | Random = 0.308840682059 | Not Random = 6.21082775149 | Cur prob = -1473.93032656 | Cur str = pa yopwl ar dwvi znut xw rwwl da hwwk ans ysour valw urdwjjuqwrvw ra coddws xiod pudnoduar up odiwsxupw pacwyale ophp np da la wrburwwsurb xash diwr ean coe poe xwjj swvwrdje g iogwrd xsuddwr ore valwp xiod o iwjj\n",
      "This iter = 24 | Swap_char = j | Can_char = w | Random = 0.00974948196963 | Not Random = 1216061484.02 | Cur prob = -1453.49343861 | Cur str = pa yopjl ar djvi znum xj rjjl da hjjk ans ysour valj urdjwwuqjrvj ra coddjs xiod pudnoduar up odijsxupj pacjyale ophp np da la jrburjjsurb xash dijr ean coe poe xjww sjvjrdwe g iogjrd xsuddjr ore valjp xiod o ijww\n",
      "This iter = 25 | Swap_char = l | Can_char = r | Random = 0.814904647688 | Not Random = 1.66684514252 | Cur prob = -1452.9825059 | Cur str = pa yopjr al djvi znum xj ljjr da hjjk ans ysoul varj uldjwwuqjlvj la coddjs xiod pudnodual up odijsxupj pacjyare ophp np da ra jlbuljjsulb xash dijl ean coe poe xjww sjvjldwe g iogjld xsuddjl ole varjp xiod o ijww\n",
      "This iter = 26 | Swap_char = g | Can_char = c | Random = 0.744330997227 | Not Random = 3.29923119432 | Cur prob = -1451.78881643 | Cur str = pa yopjr al djvi znum xj ljjr da hjjk ans ysoul varj uldjwwuqjlvj la goddjs xiod pudnodual up odijsxupj pagjyare ophp np da ra jlbuljjsulb xash dijl ean goe poe xjww sjvjldwe c iocjld xsuddjl ole varjp xiod o ijww\n",
      "This iter = 27 | Swap_char = y | Can_char = t | Random = 0.478956228368 | Not Random = 585.45142111 | Cur prob = -1445.41643322 | Cur str = pa topjr al djvi znum xj ljjr da hjjk ans tsoul varj uldjwwuqjlvj la goddjs xiod pudnodual up odijsxupj pagjtare ophp np da ra jlbuljjsulb xash dijl ean goe poe xjww sjvjldwe c iocjld xsuddjl ole varjp xiod o ijww\n",
      "This iter = 28 | Swap_char = j | Can_char = q | Random = 0.947455770124 | Not Random = 2330.42015122 | Cur prob = -1437.66262937 | Cur str = pa topqr al dqvi znum xq lqqr da hqqk ans tsoul varq uldqwwujqlvq la goddqs xiod pudnodual up odiqsxupq pagqtare ophp np da ra qlbulqqsulb xash diql ean goe poe xqww sqvqldwe c iocqld xsuddql ole varqp xiod o iqww\n",
      "This iter = 31 | Swap_char = n | Can_char = d | Random = 0.208376943342 | Not Random = 40770.3918475 | Cur prob = -1427.72621003 | Cur str = pa topqr al nqvi kdum xq lqqr na hqqf ads tsoul varq ulnqwwujqlvq la gonnqs xion pundonual up oniqsxupq pagqtare ophp dp na ra qlbulqqsulb xash niql ead goe poe xqww sqvqlnwe c iocqln xsunnql ole varqp xion o iqww\n",
      "This iter = 33 | Swap_char = c | Can_char = z | Random = 0.365094527385 | Not Random = 714.988641975 | Cur prob = -1423.02368272 | Cur str = pa topqr al nqvi zdum xq lqqr na hqqf ads tsoul varq ulnqwwujqlvq la gonnqs xion pundonual up oniqsxupq pagqtare ophp dp na ra qlbulqqsulb xash niql ead goe poe xqww sqvqlnwe k iokqln xsunnql ole varqp xion o iqww\n",
      "This iter = 34 | Swap_char = k | Can_char = z | Random = 0.400053490642 | Not Random = 1.5603536273 | Cur prob = -1422.57877024 | Cur str = pa topqr al nqvi kdum xq lqqr na hqqf ads tsoul varq ulnqwwujqlvq la gonnqs xion pundonual up oniqsxupq pagqtare ophp dp na ra qlbulqqsulb xash niql ead goe poe xqww sqvqlnwe z iozqln xsunnql ole varqp xion o iqww\n",
      "This iter = 35 | Swap_char = q | Can_char = i | Random = 0.593010155905 | Not Random = 2.72879913814e+18 | Cur prob = -1380.12837693 | Cur str = pa topir al nivq kdum xi liir na hiif ads tsoul vari ulniwwujilvi la gonnis xqon pundonual up onqisxupi pagitare ophp dp na ra ilbuliisulb xash nqil ead goe poe xiww sivilnwe z qoziln xsunnil ole varip xqon o qiww\n",
      "This iter = 36 | Swap_char = k | Can_char = h | Random = 0.802878525305 | Not Random = 1.80054490912 | Cur prob = -1379.54028758 | Cur str = pa topir al nivq hdum xi liir na kiif ads tsoul vari ulniwwujilvi la gonnis xqon pundonual up onqisxupi pagitare opkp dp na ra ilbuliisulb xask nqil ead goe poe xiww sivilnwe z qoziln xsunnil ole varip xqon o qiww\n",
      "This iter = 39 | Swap_char = q | Can_char = t | Random = 0.627378592436 | Not Random = 196.671442069 | Cur prob = -1375.65104135 | Cur str = pa copir al nivt kdum xi liir na hiif ads csoul vari ulniwwujilvi la gonnis xton pundonual up ontisxupi pagicare ophp dp na ra ilbuliisulb xash ntil ead goe poe xiww sivilnwe z toziln xsunnil ole varip xton o tiww\n",
      "This iter = 40 | Swap_char = t | Can_char = w | Random = 0.429908661483 | Not Random = 20152.038726 | Cur prob = -1365.73998061 | Cur str = pa copir al nivw kdum xi liir na hiif ads csoul vari ulnittujilvi la gonnis xwon pundonual up onwisxupi pagicare ophp dp na ra ilbuliisulb xash nwil ead goe poe xitt sivilnte z woziln xsunnil ole varip xwon o witt\n",
      "This iter = 41 | Swap_char = t | Can_char = f | Random = 0.372039866811 | Not Random = 1518.01661238 | Cur prob = -1358.41482071 | Cur str = pa copir al nivw kdum xi liir na hiit ads csoul vari ulniffujilvi la gonnis xwon pundonual up onwisxupi pagicare ophp dp na ra ilbuliisulb xash nwil ead goe poe xiff sivilnfe z woziln xsunnil ole varip xwon o wiff\n",
      "This iter = 43 | Swap_char = b | Can_char = y | Random = 0.606374762156 | Not Random = 2745.97279208 | Cur prob = -1350.49693003 | Cur str = pa copir al nivw kdum xi liir na hiit ads csoul vari ulniffujilvi la gonnis xwon pundonual up onwisxupi pagicare ophp dp na ra ilyuliisuly xash nwil ead goe poe xiff sivilnfe z woziln xsunnil ole varip xwon o wiff\n",
      "This iter = 44 | Swap_char = z | Can_char = b | Random = 0.428603245001 | Not Random = 2.78184239587 | Cur prob = -1349.47381659 | Cur str = pa copir al nivw kdum xi liir na hiit ads csoul vari ulniffujilvi la gonnis xwon pundonual up onwisxupi pagicare ophp dp na ra ilyuliisuly xash nwil ead goe poe xiff sivilnfe b wobiln xsunnil ole varip xwon o wiff\n",
      "This iter = 45 | Swap_char = j | Can_char = t | Random = 0.092395878261 | Not Random = 121.73357929 | Cur prob = -1344.67198171 | Cur str = pa copir al nivw kdum xi liir na hiij ads csoul vari ulniffutilvi la gonnis xwon pundonual up onwisxupi pagicare ophp dp na ra ilyuliisuly xash nwil ead goe poe xiff sivilnfe b wobiln xsunnil ole varip xwon o wiff\n",
      "This iter = 46 | Swap_char = z | Can_char = c | Random = 0.748153548122 | Not Random = 1.00794600861 | Cur prob = -1344.66406711 | Cur str = pa zopir al nivw kdum xi liir na hiij ads zsoul vari ulniffutilvi la gonnis xwon pundonual up onwisxupi pagizare ophp dp na ra ilyuliisuly xash nwil ead goe poe xiff sivilnfe b wobiln xsunnil ole varip xwon o wiff\n",
      "This iter = 47 | Swap_char = m | Can_char = b | Random = 0.121242594324 | Not Random = 3.38837658805 | Cur prob = -1343.44371618 | Cur str = pa zopir al nivw kdub xi liir na hiij ads zsoul vari ulniffutilvi la gonnis xwon pundonual up onwisxupi pagizare ophp dp na ra ilyuliisuly xash nwil ead goe poe xiff sivilnfe m womiln xsunnil ole varip xwon o wiff\n",
      "This iter = 58 | Swap_char = s | Can_char = t | Random = 0.34350038872 | Not Random = 33.5580667951 | Cur prob = -1341.39964019 | Cur str = pa zopir al nivw jduk si liir na hiig adt ztoul vari ulniffuqilvi la connit swon pundonual up onwitsupi pacizare ophp dp na ra ilyuliituly sath nwil ead coe poe siff tivilnfe x woxiln stunnil ole varip swon o wiff\n",
      "This iter = 62 | Swap_char = b | Can_char = q | Random = 0.716049808444 | Not Random = 2.08566275924 | Cur prob = -1340.95614734 | Cur str = pa sopir al nivw jduk zi liir na hiig adt stoul vari ulniffubilvi la connit zwon pundonual up onwitzupi pacisare ophp dp na ra ilyuliituly zath nwil ead coe poe ziff tivilnfe x woxiln ztunnil ole varip zwon o wiff\n",
      "This iter = 63 | Swap_char = m | Can_char = b | Random = 0.157654146687 | Not Random = 44.4342764425 | Cur prob = -1337.16213617 | Cur str = pa sopir al nivw jduk zi liir na hiig adt stoul vari ulniffumilvi la connit zwon pundonual up onwitzupi pacisare ophp dp na ra ilyuliituly zath nwil ead coe poe ziff tivilnfe x woxiln ztunnil ole varip zwon o wiff\n",
      "This iter = 64 | Swap_char = j | Can_char = q | Random = 0.872349261202 | Not Random = 1.76088850174 | Cur prob = -1336.59631766 | Cur str = pa sopir al nivw qduk zi liir na hiig adt stoul vari ulniffumilvi la connit zwon pundonual up onwitzupi pacisare ophp dp na ra ilyuliituly zath nwil ead coe poe ziff tivilnfe x woxiln ztunnil ole varip zwon o wiff\n",
      "This iter = 67 | Swap_char = s | Can_char = z | Random = 0.541702963594 | Not Random = 1.3385592102 | Cur prob = -1336.30472384 | Cur str = pa zopir al nivw qduk si liir na hiig adt ztoul vari ulniffumilvi la connit swon pundonual up onwitsupi pacizare ophp dp na ra ilyuliituly sath nwil ead coe poe siff tivilnfe x woxiln stunnil ole varip swon o wiff\n",
      "This iter = 69 | Swap_char = t | Can_char = g | Random = 0.338310606375 | Not Random = 3.57554531119 | Cur prob = -1335.5108817 | Cur str = pa zopir al nivw qduk si liir na hiit adc zcoul vari ulniffumilvi la gonnic swon pundonual up onwicsupi pagizare ophp dp na ra ilyuliiculy sach nwil ead goe poe siff civilnfe x woxiln scunnil ole varip swon o wiff\n",
      "This iter = 73 | Swap_char = t | Can_char = k | Random = 0.389290774814 | Not Random = 1.84339060832 | Cur prob = -1334.8992751 | Cur str = pa zopir al nivw qdut si liir na hiik adc zcoul vari ulniffumilvi la gonnic swon pundonual up onwicsupi pagizare ophp dp na ra ilyuliiculy sach nwil ead goe poe siff civilnfe x woxiln scunnil ole varip swon o wiff\n",
      "This iter = 77 | Swap_char = k | Can_char = h | Random = 0.463994404682 | Not Random = 44.2572912627 | Cur prob = -1332.1283809 | Cur str = pa zopir al nivw jdum si liir na kiih adc zcoul vari ulniffutilvi la gonnic swon pundonual up onwicsupi pagizare opkp dp na ra ilyuliiculy sack nwil ead goe poe siff civilnfe x woxiln scunnil ole varip swon o wiff\n"
     ]
    },
    {
     "name": "stdout",
     "output_type": "stream",
     "text": [
      "This iter = 79 | Swap_char = w | Can_char = h | Random = 0.716702279599 | Not Random = 3.74387380405 | Cur prob = -1331.2590171 | Cur str = pa zopir al nivh bdum si liir na kiiw adc zcoul vari ulniffutilvi la gonnic shon pundonual up onhicsupi pagizare opkp dp na ra ilyuliiculy sack nhil ead goe poe siff civilnfe x hoxiln scunnil ole varip shon o hiff\n",
      "This iter = 82 | Swap_char = q | Can_char = j | Random = 0.126524217975 | Not Random = 5.27586206897 | Cur prob = -1331.16057703 | Cur str = pa zopir al nivh bdum si liir na kiij adc zcoul vari ulniffutilvi la gonnic shon pundonual up onhicsupi pagizare opkp dp na ra ilyuliiculy sack nhil ead goe poe siff civilnfe x hoxiln scunnil ole varip shon o hiff\n",
      "This iter = 84 | Swap_char = b | Can_char = w | Random = 0.2261659949 | Not Random = 33.4925440368 | Cur prob = -1328.26594405 | Cur str = pa zopir al nivh xdum si liir na kiij adc zcoul vari ulniffutilvi la gonnic shon pundonual up onhicsupi pagizare opkp dp na ra ilyuliiculy sack nhil ead goe poe siff civilnfe w howiln scunnil ole varip shon o hiff\n",
      "This iter = 94 | Swap_char = v | Can_char = z | Random = 0.553674387329 | Not Random = 72.5453628633 | Cur prob = -1324.26623933 | Cur str = pa vopir al nith zdub si liir na kiix adc vcoul tari ulniffumilti la gonnic shon pundonual up onhicsupi pagivare opkp dp na ra ilyuliiculy sack nhil ead goe poe siff citilnfe w howiln scunnil ole tarip shon o hiff\n",
      "This iter = 198 | Swap_char = n | Can_char = g | Random = 0.00934695088046 | Not Random = 5388.13937286 | Cur prob = -1323.79045551 | Cur str = pa zopir al tigh xdum si liir ta kiiw adc zcoul gari ultiffujilgi la nottic shot putdotual up othicsupi panizare opkp dp ta ra ilyuliiculy sack thil ead noe poe siff cigiltfe v hovilt scuttil ole garip shot o hiff\n",
      "This iter = 199 | Swap_char = b | Can_char = j | Random = 0.522852103281 | Not Random = 2.7190862639 | Cur prob = -1322.79015962 | Cur str = pa zopir al tigh xdum si liir ta kiiw adc zcoul gari ultiffubilgi la nottic shot putdotual up othicsupi panizare opkp dp ta ra ilyuliiculy sack thil ead noe poe siff cigiltfe v hovilt scuttil ole garip shot o hiff\n",
      "This iter = 202 | Swap_char = q | Can_char = w | Random = 0.101637562671 | Not Random = 3.77521970168 | Cur prob = -1322.09834765 | Cur str = pa zopir al tigh xdum si liir ta kiij adc zcoul gari ultiffuwilgi la nottic shot putdotual up othicsupi panizare opkp dp ta ra ilyuliiculy sack thil ead noe poe siff cigiltfe v hovilt scuttil ole garip shot o hiff\n",
      "This iter = 204 | Swap_char = y | Can_char = j | Random = 0.443962438215 | Not Random = 31.2628280884 | Cur prob = -1321.36155275 | Cur str = pa zopir an tigh xdum si niir ta kiiy adc zcoun gari untiffuwingi na lottic shot putdotuan up othicsupi palizare opkp dp ta ra injuniicunj sack thin ead loe poe siff cigintfe v hovint scuttin one garip shot o hiff\n",
      "This iter = 205 | Swap_char = d | Can_char = l | Random = 0.161234710226 | Not Random = 3.20741014589 | Cur prob = -1320.19608895 | Cur str = pa zopir an tigh xlum si niir ta kiiy alc zcoun gari untiffuwingi na dottic shot putlotuan up othicsupi padizare opkp lp ta ra injuniicunj sack thin eal doe poe siff cigintfe v hovint scuttin one garip shot o hiff\n",
      "This iter = 206 | Swap_char = o | Can_char = a | Random = 0.381582716923 | Not Random = 141.476680215 | Cur prob = -1315.24395405 | Cur str = po zapir on tigh xlum si niir to kiiy olc zcaun gori untiffuwingi no dattic shat putlatuon up athicsupi podizore apkp lp to ro injuniicunj sock thin eol dae pae siff cigintfe v havint scuttin ane gorip shat a hiff\n",
      "This iter = 208 | Swap_char = v | Can_char = d | Random = 0.190916213282 | Not Random = 1.65084893674 | Cur prob = -1314.74266438 | Cur str = po zapir on tigh xlum si niir to kiiy olc zcaun gori untiffuwingi no vattic shat putlatuon up athicsupi povizore apkp lp to ro injuniicunj sock thin eol vae pae siff cigintfe d hadint scuttin ane gorip shat a hiff\n",
      "This iter = 209 | Swap_char = r | Can_char = v | Random = 0.256482171215 | Not Random = 7.52637811346 | Cur prob = -1312.72425045 | Cur str = po zapiv on tigh xlum si niiv to kiiy olc zcaun govi untiffuwingi no rattic shat putlatuon up athicsupi porizove apkp lp to vo injuniicunj sock thin eol rae pae siff cigintfe d hadint scuttin ane govip shat a hiff\n",
      "This iter = 210 | Swap_char = s | Can_char = c | Random = 0.647351782575 | Not Random = 4171.99012471 | Cur prob = -1304.388102 | Cur str = po zapiv on tigh xlum ci niiv to kiiy ols zsaun govi untiffuwingi no rattis chat putlatuon up athiscupi porizove apkp lp to vo injuniisunj cosk thin eol rae pae ciff sigintfe d hadint csuttin ane govip chat a hiff\n",
      "This iter = 211 | Swap_char = w | Can_char = y | Random = 0.245889024615 | Not Random = 33.2395150019 | Cur prob = -1300.88436262 | Cur str = po zapiv on tigh xlum ci niiv to kiiw ols zsaun govi untiffuyingi no rattis chat putlatuon up athiscupi porizove apkp lp to vo injuniisunj cosk thin eol rae pae ciff sigintfe d hadint csuttin ane govip chat a hiff\n",
      "This iter = 212 | Swap_char = r | Can_char = s | Random = 0.420322979876 | Not Random = 24860.3033463 | Cur prob = -1290.76333506 | Cur str = po zapiv on tigh xlum ci niiv to kiiw olr zraun govi untiffuyingi no sattir chat putlatuon up athircupi posizove apkp lp to vo injuniirunj cork thin eol sae pae ciff rigintfe d hadint cruttin ane govip chat a hiff\n",
      "This iter = 214 | Swap_char = l | Can_char = m | Random = 0.624033362312 | Not Random = 253.593878814 | Cur prob = -1285.22760097 | Cur str = po zapiv on tigh xmul ci niiv to kiiw omr zraun govi untiffuyingi no sattir chat putmatuon up athircupi posizove apkp mp to vo injuniirunj cork thin eom sae pae ciff rigintfe d hadint cruttin ane govip chat a hiff\n",
      "This iter = 215 | Swap_char = s | Can_char = v | Random = 0.662931843397 | Not Random = 640.184529735 | Cur prob = -1278.76584451 | Cur str = po zapis on tigh xmul ci niis to kiiw omr zraun gosi untiffuyingi no vattir chat putmatuon up athircupi povizose apkp mp to so injuniirunj cork thin eom vae pae ciff rigintfe d hadint cruttin ane gosip chat a hiff\n",
      "This iter = 217 | Swap_char = z | Can_char = d | Random = 0.778926341595 | Not Random = 4386.18255124 | Cur prob = -1272.52244968 | Cur str = po dapis on tigh xmul ci niis to kiib omr draun gosi untiffuyingi no vattir chat putmatuon up athircupi povidose apkp mp to so injuniirunj cork thin eom vae pae ciff rigintfe z hazint cruttin ane gosip chat a hiff\n",
      "This iter = 220 | Swap_char = c | Can_char = w | Random = 0.988324254774 | Not Random = 38.6566670705 | Cur prob = -1270.91128314 | Cur str = po dapic on tigh xmul wi niic to kiib omr draun goci untiffuyingi no vattir what putmatuon up athirwupi povidocs apkp mp to co injuniirunj work thin som vas pas wiff rigintfs z hazint wruttin ans gocip what a hiff\n",
      "This iter = 223 | Swap_char = b | Can_char = e | Random = 0.220925296435 | Not Random = 759.339882554 | Cur prob = -1264.42960553 | Cur str = po dapic on tigh emul wi niic to kiix omr draun goci untiffuyingi no vattir what putmatuon up athirwupi povidocs apkp mp to co injuniirunj work thin som vas pas wiff rigintfs z hazint wruttin ans gocip what a hiff\n",
      "This iter = 225 | Swap_char = f | Can_char = l | Random = 0.0685358217755 | Not Random = 11725735.4224 | Cur prob = -1248.91987481 | Cur str = po japic on tigh emuf wi niic to kiix omr jraun goci untilluyingi no vattir what putmatuon up athirwupi povijocs apkp mp to co induniirund work thin som vas pas will rigintls z hazint wruttin ans gocip what a hill\n",
      "This iter = 226 | Swap_char = f | Can_char = j | Random = 0.319428537471 | Not Random = 4.7151636917 | Cur prob = -1247.36909118 | Cur str = po fapic on tigh emuj wi niic to kiix omr fraun goci untilluyingi no vattir what putmatuon up athirwupi povifocs apkp mp to co induniirund work thin som vas pas will rigintls z hazint wruttin ans gocip what a hill\n",
      "This iter = 228 | Swap_char = d | Can_char = c | Random = 0.244988361606 | Not Random = 3105.62565556 | Cur prob = -1239.45684631 | Cur str = po capid on tigh emuj wi niid to kiix omr craun godi untilluyingi no vattir what putmatuon up athirwupi povicods apkp mp to do infuniirunf work thin som vas pas will rigintls z hazint wruttin ans godip what a hill\n",
      "This iter = 230 | Swap_char = y | Can_char = s | Random = 0.923667178975 | Not Random = 3.16819011544 | Cur prob = -1238.43422967 | Cur str = po capid on tigh emuj wi niid to kiix omr craun godi untillubingi no vattir what putmatuon up athirwupi povicody apkp mp to do infuniirunf work thin yom vay pay will rigintly z hazint wruttin any godip what a hill\n",
      "This iter = 231 | Swap_char = e | Can_char = i | Random = 0.831930129087 | Not Random = 1.4301110562e+28 | Cur prob = -1173.60409496 | Cur str = po caped on tegh imuj we need to keex omr craun gode untellubenge no vatter what putmatuon up atherwupe povecody apkp mp to do enfuneerunf work then yom vay pay well regently z hazent wrutten any godep what a hell\n",
      "This iter = 232 | Swap_char = j | Can_char = f | Random = 0.57351654151 | Not Random = 2.31027131005 | Cur prob = -1172.76672999 | Cur str = po caped on tegh imuf we need to keex omr craun gode untellubenge no vatter what putmatuon up atherwupe povecody apkp mp to do enjuneerunj work then yom vay pay well regently z hazent wrutten any godep what a hell\n",
      "This iter = 233 | Swap_char = x | Can_char = i | Random = 0.597757270248 | Not Random = 2.77152388306 | Cur prob = -1171.74733268 | Cur str = po caped on tegh xmuf we need to keei omr craun gode untellubenge no vatter what putmatuon up atherwupe povecody apkp mp to do enjuneerunj work then yom vay pay well regently z hazent wrutten any godep what a hell\n",
      "This iter = 234 | Swap_char = z | Can_char = i | Random = 0.817589678454 | Not Random = 2.29044185381 | Cur prob = -1170.91858794 | Cur str = po caped on tegh xmuf we need to keez omr craun gode untellubenge no vatter what putmatuon up atherwupe povecody apkp mp to do enjuneerunj work then yom vay pay well regently i haient wrutten any godep what a hell\n",
      "This iter = 236 | Swap_char = i | Can_char = g | Random = 0.860035769537 | Not Random = 7.35618282836 | Cur prob = -1169.88546179 | Cur str = po caped on tesh xmuf we need to keez omr craun sode untellubense no vatter what putmatuon up atherwupe povecody apkp mp to do enjuneerunj work then yom vay pay well resently g hagent wrutten any sodep what a hell\n",
      "This iter = 238 | Swap_char = m | Can_char = i | Random = 0.324736122767 | Not Random = 18.4921499972 | Cur prob = -1167.80548044 | Cur str = po caped on tesh xiuj we need to keez oir craun sode untellubense no vatter what putiatuon up atherwupe povecody apkp ip to do enfuneerunf work then yoi vay pay well resently g hagent wrutten any sodep what a hell\n",
      "This iter = 239 | Swap_char = z | Can_char = m | Random = 0.997086190652 | Not Random = 37.4207031708 | Cur prob = -1164.18325633 | Cur str = po caped on tesh xiuj we need to keem oir craun sode untellubense no vatter what putiatuon up atherwupe povecody apkp ip to do enfuneerunf work then yoi vay pay well resently g hagent wrutten any sodep what a hell\n",
      "This iter = 241 | Swap_char = s | Can_char = p | Random = 0.0586097920314 | Not Random = 4.6479606034e+17 | Cur prob = -1124.77939927 | Cur str = so gased on teph xiuj we need to keem oir graun pode untellubenpe no vatter what sutiatuon us atherwuse sovegody asks is to do enfuneerunf work then yoi vay say well repently c hacent wrutten any podes what a hell\n",
      "This iter = 242 | Swap_char = p | Can_char = c | Random = 0.949867175217 | Not Random = 412895878.514 | Cur prob = -1104.94069326 | Cur str = so gased on tech xiuj we need to keem oir graun code untellubence no vatter what sutiatuon us atherwuse sovegody asks is to do enfuneerunf work then yoi vay say well recently p hapent wrutten any codes what a hell\n",
      "This iter = 243 | Swap_char = b | Can_char = v | Random = 0.411469314873 | Not Random = 1.46413584799 | Cur prob = -1104.55942806 | Cur str = so gased on tech xiuj we need to keem oir graun code untelluvence no batter what sutiatuon us atherwuse sobegody asks is to do enfuneerunf work then yoi bay say well recently p hapent wrutten any codes what a hell\n",
      "This iter = 244 | Swap_char = z | Can_char = x | Random = 0.0797404041589 | Not Random = 3.19319544338 | Cur prob = -1103.39840594 | Cur str = so gased on tech ziuj we need to keem oir graun code untelluvence no batter what sutiatuon us atherwuse sobegody asks is to do enfuneerunf work then yoi bay say well recently p hapent wrutten any codes what a hell\n",
      "This iter = 247 | Swap_char = i | Can_char = u | Random = 0.818930038871 | Not Random = 1.49189782795e+35 | Cur prob = -1023.01228742 | Cur str = so gased on tech zuiq we need to keem our grain code intellibence no vatter what situation is atherwise sovegody asks us to do enfineerinf work then you vay say well recently p hapent written any codes what a hell\n",
      "This iter = 248 | Swap_char = p | Can_char = m | Random = 0.474385825523 | Not Random = 23935.7400239 | Cur prob = -1012.9291594 | Cur str = so gased on tech zuiq we need to keep our grain code intellibence no vatter what situation is atherwise sovegody asks us to do enfineerinf work then you vay say well recently m hament written any codes what a hell\n",
      "This iter = 252 | Swap_char = m | Can_char = v | Random = 0.74127089097 | Not Random = 1.5221343881e+20 | Cur prob = -972.326217618 | Cur str = so gased on tech juiq we need to keep our grain code intellifence no matter what situation is atherwise somegody asks us to do enbineerinb work then you may say well recently x haxent written any codes what a hell\n",
      "This iter = 253 | Swap_char = q | Can_char = j | Random = 0.741693331806 | Not Random = 1335.67685669 | Cur prob = -965.129024167 | Cur str = so gased on tech quij we need to keep our grain code intellifence no matter what situation is atherwise somegody asks us to do enbineerinb work then you may say well recently x haxent written any codes what a hell\n",
      "This iter = 254 | Swap_char = b | Can_char = f | Random = 0.87294595678 | Not Random = 14.7940643101 | Cur prob = -962.434798127 | Cur str = so gased on tech quij we need to keep our grain code intellibence no matter what situation is atherwise somegody asks us to do enfineerinf work then you may say well recently x haxent written any codes what a hell\n",
      "This iter = 255 | Swap_char = b | Can_char = z | Random = 0.174201980827 | Not Random = 19.617636939 | Cur prob = -959.458369121 | Cur str = so gased on tech quij we need to keep our grain code intellizence no matter what situation is atherwise somegody asks us to do enfineerinf work then you may say well recently x haxent written any codes what a hell\n"
     ]
    },
    {
     "name": "stdout",
     "output_type": "stream",
     "text": [
      "This iter = 256 | Swap_char = j | Can_char = v | Random = 0.563893849335 | Not Random = 19.7808082072 | Cur prob = -956.473656936 | Cur str = so gased on tech quiv we need to keep our grain code intellizence no matter what situation is atherwise somegody asks us to do enfineerinf work then you may say well recently x haxent written any codes what a hell\n",
      "This iter = 257 | Swap_char = z | Can_char = v | Random = 0.063610765835 | Not Random = 831679.312124 | Cur prob = -942.842454733 | Cur str = so gased on tech quiz we need to keep our grain code intellivence no matter what situation is atherwise somegody asks us to do enfineerinf work then you may say well recently x haxent written any codes what a hell\n",
      "This iter = 259 | Swap_char = x | Can_char = f | Random = 0.755716885332 | Not Random = 106.892717506 | Cur prob = -939.068683427 | Cur str = so gased on tech quiz we need to keep our grain code intellifence no matter what situation is atherwise somegody asks us to do enxineerinx work then you may say well recently v havent written any codes what a hell\n",
      "This iter = 260 | Swap_char = g | Can_char = b | Random = 0.68929018161 | Not Random = 716.041106283 | Cur prob = -932.494945851 | Cur str = so based on tech quiz we need to keep our brain code intellifence no matter what situation is atherwise somebody asks us to do enxineerinx work then you may say well recently v havent written any codes what a hell\n",
      "This iter = 262 | Swap_char = g | Can_char = x | Random = 0.215672544129 | Not Random = 1435505.83021 | Cur prob = -918.317918011 | Cur str = so based on tech quiz we need to keep our brain code intellifence no matter what situation is atherwise somebody asks us to do engineering work then you may say well recently v havent written any codes what a hell\n"
     ]
    }
   ],
   "source": [
    "num_iter = 10\n",
    "\n",
    "max_prob = None\n",
    "actual_iter = 0\n",
    "\n",
    "for this_iter in xrange(num_iter):\n",
    "    \n",
    "    cur_str = \" \".join(prob_words)\n",
    "    tmp_str = \" \" + cur_str + \" \"\n",
    "    prev_str = cur_str\n",
    "\n",
    "    cur_prob = 0\n",
    "    for i in xrange(len(tmp_str) - 2):\n",
    "        cur_prob = cur_prob + log(TRIGRAMS_letter[tmp_str[i], tmp_str[i+1], tmp_str[i+2]])\n",
    "    tmp_str_tmp = cur_str.split(\" \")\n",
    "    for tmp_word in tmp_str_tmp:\n",
    "        cur_prob = cur_prob + max(P(tmp_word), log(0.0000001))\n",
    "    for i in xrange(len(tmp_str_tmp) - 1):\n",
    "        cur_prob = cur_prob + log(BIGRAMS_word.get(tmp_str_tmp[i], {}).get(tmp_str_tmp[i + 1], 0.0000001))\n",
    "    \n",
    "    if max_prob == None:\n",
    "        max_prob = cur_prob\n",
    "    \n",
    "    counta = 0\n",
    "    while counta < 10000:\n",
    "        randint_a, randint_b = sample(xrange(len(letters)), 2)\n",
    "        swap_char, can_char = letters[randint_a], letters[randint_b]\n",
    "\n",
    "        tmp_prob = 0\n",
    "        tmp_str = \" \" + cur_str.replace(swap_char, \"*\").replace(can_char, swap_char).replace(\"*\", can_char)  + \" \"    \n",
    "\n",
    "        for i in xrange(len(tmp_str) - 2):\n",
    "            tmp_prob = tmp_prob + log(TRIGRAMS_letter[tmp_str[i], tmp_str[i+1], tmp_str[i+2]]) \n",
    "\n",
    "        tmp_str_tmp = tmp_str.strip().split(\" \")\n",
    "        for tmp_word in tmp_str_tmp:\n",
    "            tmp_prob = tmp_prob + max(P(tmp_word), log(0.0000001))\n",
    "        for i in xrange(len(tmp_str_tmp) - 1):\n",
    "            tmp_prob = tmp_prob + log(BIGRAMS_word.get(tmp_str_tmp[i], {}).get(tmp_str_tmp[i + 1], 0.0000001))\n",
    "\n",
    "        this_random = random()\n",
    "        this_not_random = exp(tmp_prob-cur_prob)\n",
    "        if this_random < this_not_random:\n",
    "            cur_prob = tmp_prob\n",
    "            cur_str = cur_str.replace(swap_char, \"*\").replace(can_char, swap_char).replace(\"*\", can_char)\n",
    "            prev_str = cur_str\n",
    "\n",
    "            actual_iter = actual_iter + 1\n",
    "\n",
    "            if cur_prob > max_prob:\n",
    "                counta = 0\n",
    "                max_prob = cur_prob\n",
    "                max_str = prev_str\n",
    "\n",
    "                if actual_iter % 1 == 0:\n",
    "                    print \"This iter = \" + str(actual_iter) + \" | Swap_char = \" + swap_char + \" | Can_char = \" + can_char + \\\n",
    "                    \" | Random = \" + str(this_random) + \" | Not Random = \" + str(this_not_random) + \\\n",
    "                    \" | Cur prob = \" + str(max_prob) + \" | Cur str = \" + max_str\n",
    "            else:\n",
    "                counta = counta + 1\n",
    "        else:\n",
    "            counta = counta + 1"
   ]
  },
  {
   "cell_type": "code",
   "execution_count": 79,
   "metadata": {},
   "outputs": [],
   "source": [
    "mapping = {}\n",
    "tmp_str = \" \".join(prob_words)\n",
    "for i in xrange(len(max_str)):\n",
    "    if tmp_str[i] in letters:\n",
    "        mapping[tmp_str[i]] = max_str[i]"
   ]
  },
  {
   "cell_type": "code",
   "execution_count": 82,
   "metadata": {},
   "outputs": [
    {
     "name": "stdout",
     "output_type": "stream",
     "text": [
      "so based on tech quiz, we need to keep our brain code-intellifence no matter what situation is. atherwise, somebody asks us to do engineering work,, then you may say \"well,, recently v havent written any codes..\" what a hell...\n"
     ]
    }
   ],
   "source": [
    "final_str = prob_str\n",
    "print ''.join([mapping.get(char.lower(), char) for char in final_str])"
   ]
  }
 ],
 "metadata": {
  "kernelspec": {
   "display_name": "Python 2",
   "language": "python",
   "name": "python2"
  },
  "language_info": {
   "codemirror_mode": {
    "name": "ipython",
    "version": 2
   },
   "file_extension": ".py",
   "mimetype": "text/x-python",
   "name": "python",
   "nbconvert_exporter": "python",
   "pygments_lexer": "ipython2",
   "version": "2.7.13"
  }
 },
 "nbformat": 4,
 "nbformat_minor": 2
}
